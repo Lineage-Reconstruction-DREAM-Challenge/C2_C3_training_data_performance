{
  "nbformat": 4,
  "nbformat_minor": 0,
  "metadata": {
    "kernelspec": {
      "display_name": "Python 3",
      "language": "python",
      "name": "python3"
    },
    "language_info": {
      "codemirror_mode": {
        "name": "ipython",
        "version": 3
      },
      "file_extension": ".py",
      "mimetype": "text/x-python",
      "name": "python",
      "nbconvert_exporter": "python",
      "pygments_lexer": "ipython3",
      "version": "3.6.8"
    },
    "colab": {
      "name": "FT2_C2.ipynb",
      "provenance": [],
      "collapsed_sections": [],
      "include_colab_link": true
    }
  },
  "cells": [
    {
      "cell_type": "markdown",
      "metadata": {
        "id": "view-in-github",
        "colab_type": "text"
      },
      "source": [
        "<a href=\"https://colab.research.google.com/github/Lineage-Reconstruction-DREAM-Challenge/C2_C3_training_data_performance/blob/master/FT2_C2.ipynb\" target=\"_parent\"><img src=\"https://colab.research.google.com/assets/colab-badge.svg\" alt=\"Open In Colab\"/></a>"
      ]
    },
    {
      "cell_type": "markdown",
      "metadata": {
        "id": "k0L8fnbCzgvq",
        "colab_type": "text"
      },
      "source": [
        "### Evaluating the running time of FT2 on a dataset of 1,000 cells with 200 targets"
      ]
    },
    {
      "cell_type": "code",
      "metadata": {
        "id": "Szeu464nh_bw",
        "colab_type": "code",
        "outputId": "120b60f6-4797-4fd0-824f-30299da5a2ce",
        "colab": {
          "base_uri": "https://localhost:8080/",
          "height": 204
        }
      },
      "source": [
        "!rm -f FastTree.c\n",
        "!wget http://www.microbesonline.org/fasttree/FastTree.c\n",
        "!gcc -DNO_SSE -O3 -finline-functions -funroll-loops -Wall -o FastTree FastTree.c -lm"
      ],
      "execution_count": 0,
      "outputs": [
        {
          "output_type": "stream",
          "text": [
            "--2020-06-07 22:33:53--  http://www.microbesonline.org/fasttree/FastTree.c\n",
            "Resolving www.microbesonline.org (www.microbesonline.org)... 128.32.248.24\n",
            "Connecting to www.microbesonline.org (www.microbesonline.org)|128.32.248.24|:80... connected.\n",
            "HTTP request sent, awaiting response... 200 OK\n",
            "Length: 395543 (386K) [text/plain]\n",
            "Saving to: ‘FastTree.c’\n",
            "\n",
            "FastTree.c          100%[===================>] 386.27K   683KB/s    in 0.6s    \n",
            "\n",
            "2020-06-07 22:33:54 (683 KB/s) - ‘FastTree.c’ saved [395543/395543]\n",
            "\n"
          ],
          "name": "stdout"
        }
      ]
    },
    {
      "cell_type": "code",
      "metadata": {
        "id": "fY0r7oh10suX",
        "colab_type": "code",
        "outputId": "a84ed90e-7ba9-46be-8728-5dc2bbbd450c",
        "colab": {
          "base_uri": "https://localhost:8080/",
          "height": 391
        }
      },
      "source": [
        "!wget -O C2_test.tsv https://s3.msi.umn.edu/gongx030/rlib/C2_C3_training_data_performance/C2_test.tsv\n",
        "!wget -O unified_transition_table_for_fastree.mat https://s3.msi.umn.edu/gongx030/rlib/C2_C3_training_data_performance/dream_examples/unified_transition_table_for_fastree.mat"
      ],
      "execution_count": 0,
      "outputs": [
        {
          "output_type": "stream",
          "text": [
            "--2020-06-07 22:34:02--  https://s3.msi.umn.edu/gongx030/rlib/C2_C3_training_data_performance/C2_test.tsv\n",
            "Resolving s3.msi.umn.edu (s3.msi.umn.edu)... 128.101.189.144\n",
            "Connecting to s3.msi.umn.edu (s3.msi.umn.edu)|128.101.189.144|:443... connected.\n",
            "HTTP request sent, awaiting response... 200 OK\n",
            "Length: 421892 (412K) [text/plain]\n",
            "Saving to: ‘C2_test.tsv’\n",
            "\n",
            "\rC2_test.tsv           0%[                    ]       0  --.-KB/s               \rC2_test.tsv         100%[===================>] 412.00K  2.40MB/s    in 0.2s    \n",
            "\n",
            "2020-06-07 22:34:02 (2.40 MB/s) - ‘C2_test.tsv’ saved [421892/421892]\n",
            "\n",
            "--2020-06-07 22:34:03--  https://s3.msi.umn.edu/gongx030/rlib/C2_C3_training_data_performance/dream_examples/unified_transition_table_for_fastree.mat\n",
            "Resolving s3.msi.umn.edu (s3.msi.umn.edu)... 128.101.189.144\n",
            "Connecting to s3.msi.umn.edu (s3.msi.umn.edu)|128.101.189.144|:443... connected.\n",
            "HTTP request sent, awaiting response... 200 OK\n",
            "Length: 4802 (4.7K) [text/plain]\n",
            "Saving to: ‘unified_transition_table_for_fastree.mat’\n",
            "\n",
            "unified_transition_ 100%[===================>]   4.69K  --.-KB/s    in 0.04s   \n",
            "\n",
            "2020-06-07 22:34:03 (129 KB/s) - ‘unified_transition_table_for_fastree.mat’ saved [4802/4802]\n",
            "\n"
          ],
          "name": "stdout"
        }
      ]
    },
    {
      "cell_type": "code",
      "metadata": {
        "id": "rwSBQQA41kDW",
        "colab_type": "code",
        "outputId": "3fe71c9f-38fc-4918-b8e3-a46292fc2907",
        "colab": {
          "base_uri": "https://localhost:8080/",
          "height": 187
        }
      },
      "source": [
        "!pip install git+https://github.com/jeetsukumaran/DendroPy.git"
      ],
      "execution_count": 0,
      "outputs": [
        {
          "output_type": "stream",
          "text": [
            "Collecting git+https://github.com/jeetsukumaran/DendroPy.git\n",
            "  Cloning https://github.com/jeetsukumaran/DendroPy.git to /tmp/pip-req-build-r3uhlbmt\n",
            "  Running command git clone -q https://github.com/jeetsukumaran/DendroPy.git /tmp/pip-req-build-r3uhlbmt\n",
            "Requirement already satisfied (use --upgrade to upgrade): DendroPy==4.4.0 from git+https://github.com/jeetsukumaran/DendroPy.git in /usr/local/lib/python3.6/dist-packages\n",
            "Requirement already satisfied: setuptools in /usr/local/lib/python3.6/dist-packages (from DendroPy==4.4.0) (47.1.1)\n",
            "Building wheels for collected packages: DendroPy\n",
            "  Building wheel for DendroPy (setup.py) ... \u001b[?25l\u001b[?25hdone\n",
            "  Created wheel for DendroPy: filename=DendroPy-4.4.0-cp36-none-any.whl size=450883 sha256=d2afcdf1cf908e060e3bbd3f76fdd30108181bac3fe317591fcfa1654e1fb47a\n",
            "  Stored in directory: /tmp/pip-ephem-wheel-cache-dm7klmoh/wheels/be/75/21/686ec0b11dc2e8e4824cd5d73ba2f71e438d93decee8b6f1b4\n",
            "Successfully built DendroPy\n"
          ],
          "name": "stdout"
        }
      ]
    },
    {
      "cell_type": "code",
      "metadata": {
        "id": "zZ0sshUBzE6O",
        "colab_type": "code",
        "colab": {}
      },
      "source": [
        "import os\n",
        "import sys\n",
        "import pandas as pd\n",
        "import dendropy\n",
        "import subprocess\n",
        "import time\n",
        "import numpy as np"
      ],
      "execution_count": 0,
      "outputs": []
    },
    {
      "cell_type": "code",
      "metadata": {
        "id": "B74jJYUyzWnj",
        "colab_type": "code",
        "colab": {}
      },
      "source": [
        "df = pd.read_table('C2_test.tsv', sep = '\\t')"
      ],
      "execution_count": 0,
      "outputs": []
    },
    {
      "cell_type": "code",
      "metadata": {
        "id": "cYwDMR-s05C7",
        "colab_type": "code",
        "colab": {}
      },
      "source": [
        "symbol_map = {\n",
        "    0.0:'A',\n",
        "    '0':'A',\n",
        "    'A':'R',\n",
        "    'B':'N',\n",
        "    'C':'D',\n",
        "    'D':'C',\n",
        "    'E':'Q',\n",
        "    'F':'E',\n",
        "    'G':'G',\n",
        "    'H':'H',\n",
        "    'I':'I',\n",
        "    'J':'L',\n",
        "    'K':'K',\n",
        "    'L':'M',\n",
        "    'M':'F',\n",
        "    'N':'P',\n",
        "    'O':'S',\n",
        "    'P':'T',\n",
        "    'Q':'W',\n",
        "    'R':'Y',\n",
        "    'S':'-', # Skipping rare characters as we're running out of standard amino acids\n",
        "    'T':'-',\n",
        "    'U':'-',\n",
        "    'V':'-',\n",
        "    '-':'V', # Inherited deletion is treated as charcter as it carries information (unlike acquisition dropout)\n",
        "}"
      ],
      "execution_count": 0,
      "outputs": []
    },
    {
      "cell_type": "code",
      "metadata": {
        "id": "OWLruM951De6",
        "colab_type": "code",
        "colab": {}
      },
      "source": [
        "for col in df.columns:\n",
        "    df[col] = df[col].map(symbol_map)\n",
        "df.fillna(\"-\",inplace=True)\n",
        "normalized_newick_path = 'input.fasta'\n",
        "with open(normalized_newick_path, 'w') as f:\n",
        "    for sr, row in df.iterrows():\n",
        "        f.write('>{}\\r\\n{}\\r\\n'.format(sr, ''.join(row.values)))"
      ],
      "execution_count": 0,
      "outputs": []
    },
    {
      "cell_type": "code",
      "metadata": {
        "id": "vU1G68EW1Wj-",
        "colab_type": "code",
        "colab": {}
      },
      "source": [
        "fasttree_path = \"./FastTree\"\n",
        "fasttree_transition_table = 'unified_transition_table_for_fastree.mat'\n",
        "\n",
        "def run_fasttree(newick_output_file, mutations_fasta_path):\n",
        "    subprocess.call([fasttree_path, \n",
        "                 '-pseudo', \n",
        "                 '-trans', fasttree_transition_table,\n",
        "                 '-out', newick_output_file, \n",
        "                 mutations_fasta_path])\n",
        "    good_tree = dendropy.Tree.get_from_path(\n",
        "                        newick_output_file,\n",
        "                    \"newick\")\n",
        "    return good_tree"
      ],
      "execution_count": 0,
      "outputs": []
    },
    {
      "cell_type": "code",
      "metadata": {
        "id": "BmcCGrBbuQVR",
        "colab_type": "code",
        "outputId": "7047950f-c5e6-4837-b668-117007d2b319",
        "colab": {
          "base_uri": "https://localhost:8080/",
          "height": 34
        }
      },
      "source": [
        "newick_output_file = 'FT2.newick'\n",
        "t0 = time.time()\n",
        "rec_tree = run_fasttree(newick_output_file, normalized_newick_path)\n",
        "print('Time elasped: ' + str(np.round(time.time() - t0, 3)) + \" seconds\")"
      ],
      "execution_count": 0,
      "outputs": [
        {
          "output_type": "stream",
          "text": [
            "Time elasped: 38.005 seconds\n"
          ],
          "name": "stdout"
        }
      ]
    }
  ]
}