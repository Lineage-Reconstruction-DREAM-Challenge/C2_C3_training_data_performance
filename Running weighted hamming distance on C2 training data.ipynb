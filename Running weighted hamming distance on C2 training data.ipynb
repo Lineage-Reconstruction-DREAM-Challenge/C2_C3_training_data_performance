{
 "cells": [
  {
   "cell_type": "code",
   "execution_count": 1,
   "metadata": {},
   "outputs": [
    {
     "name": "stderr",
     "output_type": "stream",
     "text": [
      "Loading required package: phangorn\n",
      "\n",
      "\n",
      "Attaching package: ‘DCLEAR’\n",
      "\n",
      "\n",
      "The following object is masked from ‘package:stats’:\n",
      "\n",
      "    simulate\n",
      "\n",
      "\n"
     ]
    }
   ],
   "source": [
    "library(BiocParallel)\n",
    "register(MulticoreParam(8)) # Use 8 cores\n",
    "library(treeman)\t# for calcDstTrp\n",
    "library(ape)\n",
    "options(width = as.integer(system('tput cols', intern = TRUE)))\n",
    "library(DCLEAR)"
   ]
  },
  {
   "cell_type": "markdown",
   "metadata": {},
   "source": [
    "## Set weights"
   ]
  },
  {
   "cell_type": "code",
   "execution_count": 2,
   "metadata": {},
   "outputs": [],
   "source": [
    "ws = c(0.42823089537553294,\n",
    " 0.20667366349622826,\n",
    " 0.12241784191538209,\n",
    " 0.08059298130534602,\n",
    " 0.051816333224007874,\n",
    " 0.03758215808461791,\n",
    " 0.025931124959002953,\n",
    " 0.01694326008527386,\n",
    " 0.011021318465070516,\n",
    " 0.006993768448671695,\n",
    " 0.004587733683174811,\n",
    " 0.0027235159068547065,\n",
    " 0.0016595605116431617,\n",
    " 0.0009590029517874714,\n",
    " 0.0008658576582486061,\n",
    " 0.0004801574286651361,\n",
    " 0.0002007215480485405,\n",
    " 0.00014168579862249917,\n",
    " 8.920957691046244e-05,\n",
    " 5.116431616923581e-05,\n",
    " 2.7550016398819286e-05,\n",
    " 2.623811085601837e-06,\n",
    " 7.87143325680551e-06)\n",
    "\n",
    "InfoW = -log(ws)\n",
    "InfoW[1] = 1.5\n",
    "InfoW[2] = .8\n",
    "InfoW[15:25] = 7\n"
   ]
  },
  {
   "cell_type": "code",
   "execution_count": null,
   "metadata": {},
   "outputs": [],
   "source": []
  },
  {
   "cell_type": "markdown",
   "metadata": {},
   "source": [
    "## Compute the RF distance and triplet metric of predicted trees and ground truth trees using R ape and treeman\n"
   ]
  },
  {
   "cell_type": "code",
   "execution_count": 4,
   "metadata": {},
   "outputs": [],
   "source": [
    "data(lineages)\n",
    "set.seed(1)"
   ]
  },
  {
   "cell_type": "code",
   "execution_count": null,
   "metadata": {},
   "outputs": [],
   "source": [
    "res <- do.call('rbind', bplapply(1:length(lineages), function(i){\n",
    "\n",
    "#\tflog.info(sprintf('%d/%d', i, length(lineages)))\n",
    "\n",
    "\tx <- lineages[[i]]$sequence\n",
    "\ty <- lineages[[i]]$tree\n",
    "\td <- x %>% dist_weighted_hamming(InfoW, dropout = FALSE)\n",
    "\n",
    "\ty_pred <- d %>% fastme.bal() \t# inferred tree\n",
    "\n",
    "\trf <- RF.dist(y, y_pred, normalize = TRUE)\t# RF distance\n",
    "\n",
    "\ttriplet <- calcDstTrp(\n",
    "\t\treadTree(text = write.tree(y)),\n",
    "\t\treadTree(text = write.tree(y_pred)),\n",
    "\t\tnrmlsd = TRUE\n",
    "\t)\t# triplet metric (slow)\n",
    "\n",
    "\tdata.frame(sample = i, rf = rf, triplet)\n",
    "\n",
    "}))\n"
   ]
  },
  {
   "cell_type": "code",
   "execution_count": null,
   "metadata": {},
   "outputs": [],
   "source": [
    "res_file <- 'challenge=C2_group=Kwak_gong_weighted_hamming_treeman.tsv'\n",
    "write.table(res, res_file, sep = '\\t', quote = FALSE, row.names = FALSE)"
   ]
  },
  {
   "cell_type": "markdown",
   "metadata": {},
   "source": [
    "## Compute the RF distance and triplet metric of predicted trees and ground truth trees using TreeCmp"
   ]
  },
  {
   "cell_type": "code",
   "execution_count": null,
   "metadata": {},
   "outputs": [],
   "source": [
    "data(lineages)\n",
    "set.seed(1)"
   ]
  },
  {
   "cell_type": "code",
   "execution_count": null,
   "metadata": {},
   "outputs": [],
   "source": [
    "true_tree_files <- sprintf('data/C2/sample=%d.true.newick', 1:length(lineages))\n",
    "pred_tree_files <- sprintf('data/C2/sample=%d.pred.newick', 1:length(lineages))\n",
    "treecmp_output_files <- sprintf('data/C2/sample=%d.treecmp.txt', 1:length(lineages))\n",
    "res <- do.call('rbind', bplapply(1:length(lineages), function(i){\n",
    "  flog.info(sprintf('%d/%d', i, length(lineages)))\n",
    "\t  x <- lineages[[i]]$sequence\n",
    "\t  y <- lineages[[i]]$tree\n",
    "\t  d <- x %>% dist_weighted_hamming(InfoW, dropout = FALSE)\n",
    "\t  y_pred <- d %>% fastme.bal()  # inferred tree\n",
    "\t  write.tree(y, true_tree_files[i])\n",
    "\t  write.tree(y_pred, pred_tree_files[i])\n",
    "\t  command <- sprintf('java -jar TreeCmp/bin/TreeCmp.jar -P -N -I -r %s -i %s -o %s -d rc rf tt', true_tree_files[i], pred_tree_files[i], treecmp_output_files[i])\n",
    "\t  system(command)\n",
    "\t  row <- read.table(treecmp_output_files[i], header = TRUE, sep = '\\t', nrow = 1) %>%\n",
    "\t\t\tunlist()\n",
    "\t\tn <- row['Common_taxa']\n",
    "\t\trf_score <- row['R.F'] / (n - 3)\n",
    "\t\ttriples <- row['Triples']\n",
    "\t\ttriples_score <- min(1.0, 3 * triples / (2 * choose(n, 3)))\n",
    "\t\tdata.frame(sample = i, rf = rf_score, triplet = triples_score)\n",
    "}))\n"
   ]
  },
  {
   "cell_type": "code",
   "execution_count": null,
   "metadata": {},
   "outputs": [],
   "source": [
    "res_file <- 'challenge=C2_group=Kwak_gong_weighted_hamming_TreeCmp.tsv'\n",
    "write.table(res, res_file, sep = '\\t', quote = FALSE, row.names = FALSE)"
   ]
  }
 ],
 "metadata": {
  "kernelspec": {
   "display_name": "R",
   "language": "R",
   "name": "ir"
  },
  "language_info": {
   "codemirror_mode": "r",
   "file_extension": ".r",
   "mimetype": "text/x-r-source",
   "name": "R",
   "pygments_lexer": "r",
   "version": "3.6.2"
  }
 },
 "nbformat": 4,
 "nbformat_minor": 2
}
