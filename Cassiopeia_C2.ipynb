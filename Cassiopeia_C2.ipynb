{
  "nbformat": 4,
  "nbformat_minor": 0,
  "metadata": {
    "kernelspec": {
      "display_name": "Python 3",
      "language": "python",
      "name": "python3"
    },
    "language_info": {
      "codemirror_mode": {
        "name": "ipython",
        "version": 3
      },
      "file_extension": ".py",
      "mimetype": "text/x-python",
      "name": "python",
      "nbconvert_exporter": "python",
      "pygments_lexer": "ipython3",
      "version": "3.6.8"
    },
    "colab": {
      "name": "Cassiopeia_C2.ipynb",
      "provenance": [],
      "collapsed_sections": [],
      "include_colab_link": true
    }
  },
  "cells": [
    {
      "cell_type": "markdown",
      "metadata": {
        "id": "view-in-github",
        "colab_type": "text"
      },
      "source": [
        "<a href=\"https://colab.research.google.com/github/Lineage-Reconstruction-DREAM-Challenge/C2_C3_training_data_performance/blob/master/Cassiopeia_C2.ipynb\" target=\"_parent\"><img src=\"https://colab.research.google.com/assets/colab-badge.svg\" alt=\"Open In Colab\"/></a>"
      ]
    },
    {
      "cell_type": "code",
      "metadata": {
        "id": "Szeu464nh_bw",
        "colab_type": "code",
        "outputId": "38b3b4c4-75e1-4a65-8764-87cabf168e1c",
        "colab": {
          "base_uri": "https://localhost:8080/",
          "height": 1000
        }
      },
      "source": [
        "!pip install git+https://github.com/YosefLab/Cassiopeia.git"
      ],
      "execution_count": 0,
      "outputs": [
        {
          "output_type": "stream",
          "text": [
            "Collecting git+https://github.com/YosefLab/Cassiopeia.git\n",
            "  Cloning https://github.com/YosefLab/Cassiopeia.git to /tmp/pip-req-build-9zz71f4_\n",
            "  Running command git clone -q https://github.com/YosefLab/Cassiopeia.git /tmp/pip-req-build-9zz71f4_\n",
            "Requirement already satisfied: numpy>1.17 in /usr/local/lib/python3.6/dist-packages (from cassiopeia-lineage==1.0.4) (1.18.4)\n",
            "Requirement already satisfied: matplotlib>=2.2.2 in /usr/local/lib/python3.6/dist-packages (from cassiopeia-lineage==1.0.4) (3.2.1)\n",
            "Requirement already satisfied: pandas>=0.22.0 in /usr/local/lib/python3.6/dist-packages (from cassiopeia-lineage==1.0.4) (1.0.4)\n",
            "Requirement already satisfied: networkx>=2.0 in /usr/local/lib/python3.6/dist-packages (from cassiopeia-lineage==1.0.4) (2.4)\n",
            "Requirement already satisfied: tqdm>=4 in /usr/local/lib/python3.6/dist-packages (from cassiopeia-lineage==1.0.4) (4.41.1)\n",
            "Collecting ete3>=3.1.1\n",
            "\u001b[?25l  Downloading https://files.pythonhosted.org/packages/21/17/3c49b7fafe10ed63bb7904ebf9764b98db726aa5fd482fb006818854bc04/ete3-3.1.1.tar.gz (10.5MB)\n",
            "\u001b[K     |████████████████████████████████| 10.5MB 3.5MB/s \n",
            "\u001b[?25hCollecting argparse>=1.1\n",
            "  Downloading https://files.pythonhosted.org/packages/f2/94/3af39d34be01a24a6e65433d19e107099374224905f1e0cc6bbe1fd22a2f/argparse-1.4.0-py2.py3-none-any.whl\n",
            "Collecting Biopython>=1.71\n",
            "\u001b[?25l  Downloading https://files.pythonhosted.org/packages/a8/66/134dbd5f885fc71493c61b6cf04c9ea08082da28da5ed07709b02857cbd0/biopython-1.77-cp36-cp36m-manylinux1_x86_64.whl (2.3MB)\n",
            "\u001b[K     |████████████████████████████████| 2.3MB 48.9MB/s \n",
            "\u001b[?25hRequirement already satisfied: pathlib in /usr/local/lib/python3.6/dist-packages (from cassiopeia-lineage==1.0.4) (1.0.1)\n",
            "Collecting pandas-charm>=0.1.3\n",
            "  Downloading https://files.pythonhosted.org/packages/30/6a/dacff58029f81bcd3b96ffd65bbe6269cadf59e5b459a77d36029a3eb8ea/pandas_charm-0.3.0-py2.py3-none-any.whl\n",
            "Collecting pysam>=0.14.1\n",
            "\u001b[?25l  Downloading https://files.pythonhosted.org/packages/2b/01/2be4def91aeb50ccb963879b8193ca667087308696f2fe6aa86c6da9db72/pysam-0.15.4-cp36-cp36m-manylinux2010_x86_64.whl (10.7MB)\n",
            "\u001b[K     |████████████████████████████████| 10.8MB 9.7MB/s \n",
            "\u001b[?25hRequirement already satisfied: bokeh>=0.12.15 in /usr/local/lib/python3.6/dist-packages (from cassiopeia-lineage==1.0.4) (1.4.0)\n",
            "Requirement already satisfied: PyYAML>=3.12 in /usr/local/lib/python3.6/dist-packages (from cassiopeia-lineage==1.0.4) (3.13)\n",
            "Requirement already satisfied: cython>=0.29.2 in /usr/local/lib/python3.6/dist-packages (from cassiopeia-lineage==1.0.4) (0.29.19)\n",
            "Requirement already satisfied: scipy>=1.2.0 in /usr/local/lib/python3.6/dist-packages (from cassiopeia-lineage==1.0.4) (1.4.1)\n",
            "Collecting python-Levenshtein\n",
            "\u001b[?25l  Downloading https://files.pythonhosted.org/packages/42/a9/d1785c85ebf9b7dfacd08938dd028209c34a0ea3b1bcdb895208bd40a67d/python-Levenshtein-0.12.0.tar.gz (48kB)\n",
            "\u001b[K     |████████████████████████████████| 51kB 7.2MB/s \n",
            "\u001b[?25hRequirement already satisfied: nbconvert>=5.4.0 in /usr/local/lib/python3.6/dist-packages (from cassiopeia-lineage==1.0.4) (5.6.1)\n",
            "Requirement already satisfied: nbformat>=4.4.0 in /usr/local/lib/python3.6/dist-packages (from cassiopeia-lineage==1.0.4) (5.0.6)\n",
            "Collecting hits\n",
            "\u001b[?25l  Downloading https://files.pythonhosted.org/packages/16/eb/7875f9d6728a25ea1ebf15e1b1fd7f17956b6bd984247a9402d3a3354530/hits-0.1.tar.gz (1.1MB)\n",
            "\u001b[K     |████████████████████████████████| 1.1MB 47.5MB/s \n",
            "\u001b[?25hCollecting scikit-bio>=0.5.5\n",
            "\u001b[?25l  Downloading https://files.pythonhosted.org/packages/66/b0/054ef21e024d24422882958072973cd192b492e004a3ce4e9614ef173d9b/scikit-bio-0.5.6.tar.gz (8.4MB)\n",
            "\u001b[K     |████████████████████████████████| 8.4MB 14.4MB/s \n",
            "\u001b[?25hRequirement already satisfied: cycler>=0.10 in /usr/local/lib/python3.6/dist-packages (from matplotlib>=2.2.2->cassiopeia-lineage==1.0.4) (0.10.0)\n",
            "Requirement already satisfied: pyparsing!=2.0.4,!=2.1.2,!=2.1.6,>=2.0.1 in /usr/local/lib/python3.6/dist-packages (from matplotlib>=2.2.2->cassiopeia-lineage==1.0.4) (2.4.7)\n",
            "Requirement already satisfied: kiwisolver>=1.0.1 in /usr/local/lib/python3.6/dist-packages (from matplotlib>=2.2.2->cassiopeia-lineage==1.0.4) (1.2.0)\n",
            "Requirement already satisfied: python-dateutil>=2.1 in /usr/local/lib/python3.6/dist-packages (from matplotlib>=2.2.2->cassiopeia-lineage==1.0.4) (2.8.1)\n",
            "Requirement already satisfied: pytz>=2017.2 in /usr/local/lib/python3.6/dist-packages (from pandas>=0.22.0->cassiopeia-lineage==1.0.4) (2018.9)\n",
            "Requirement already satisfied: decorator>=4.3.0 in /usr/local/lib/python3.6/dist-packages (from networkx>=2.0->cassiopeia-lineage==1.0.4) (4.4.2)\n",
            "Requirement already satisfied: packaging>=16.8 in /usr/local/lib/python3.6/dist-packages (from bokeh>=0.12.15->cassiopeia-lineage==1.0.4) (20.4)\n",
            "Requirement already satisfied: Jinja2>=2.7 in /usr/local/lib/python3.6/dist-packages (from bokeh>=0.12.15->cassiopeia-lineage==1.0.4) (2.11.2)\n",
            "Requirement already satisfied: six>=1.5.2 in /usr/local/lib/python3.6/dist-packages (from bokeh>=0.12.15->cassiopeia-lineage==1.0.4) (1.12.0)\n",
            "Requirement already satisfied: pillow>=4.0 in /usr/local/lib/python3.6/dist-packages (from bokeh>=0.12.15->cassiopeia-lineage==1.0.4) (7.0.0)\n",
            "Requirement already satisfied: tornado>=4.3 in /usr/local/lib/python3.6/dist-packages (from bokeh>=0.12.15->cassiopeia-lineage==1.0.4) (4.5.3)\n",
            "Requirement already satisfied: setuptools in /usr/local/lib/python3.6/dist-packages (from python-Levenshtein->cassiopeia-lineage==1.0.4) (47.1.1)\n",
            "Requirement already satisfied: testpath in /usr/local/lib/python3.6/dist-packages (from nbconvert>=5.4.0->cassiopeia-lineage==1.0.4) (0.4.4)\n",
            "Requirement already satisfied: defusedxml in /usr/local/lib/python3.6/dist-packages (from nbconvert>=5.4.0->cassiopeia-lineage==1.0.4) (0.6.0)\n",
            "Requirement already satisfied: mistune<2,>=0.8.1 in /usr/local/lib/python3.6/dist-packages (from nbconvert>=5.4.0->cassiopeia-lineage==1.0.4) (0.8.4)\n",
            "Requirement already satisfied: traitlets>=4.2 in /usr/local/lib/python3.6/dist-packages (from nbconvert>=5.4.0->cassiopeia-lineage==1.0.4) (4.3.3)\n",
            "Requirement already satisfied: pygments in /usr/local/lib/python3.6/dist-packages (from nbconvert>=5.4.0->cassiopeia-lineage==1.0.4) (2.1.3)\n",
            "Requirement already satisfied: jupyter-core in /usr/local/lib/python3.6/dist-packages (from nbconvert>=5.4.0->cassiopeia-lineage==1.0.4) (4.6.3)\n",
            "Requirement already satisfied: pandocfilters>=1.4.1 in /usr/local/lib/python3.6/dist-packages (from nbconvert>=5.4.0->cassiopeia-lineage==1.0.4) (1.4.2)\n",
            "Requirement already satisfied: entrypoints>=0.2.2 in /usr/local/lib/python3.6/dist-packages (from nbconvert>=5.4.0->cassiopeia-lineage==1.0.4) (0.3)\n",
            "Requirement already satisfied: bleach in /usr/local/lib/python3.6/dist-packages (from nbconvert>=5.4.0->cassiopeia-lineage==1.0.4) (3.1.5)\n",
            "Requirement already satisfied: jsonschema!=2.5.0,>=2.4 in /usr/local/lib/python3.6/dist-packages (from nbformat>=4.4.0->cassiopeia-lineage==1.0.4) (2.6.0)\n",
            "Requirement already satisfied: ipython-genutils in /usr/local/lib/python3.6/dist-packages (from nbformat>=4.4.0->cassiopeia-lineage==1.0.4) (0.2.0)\n",
            "Collecting ipython>=7.8.0\n",
            "\u001b[?25l  Downloading https://files.pythonhosted.org/packages/aa/e8/47fda10c3ab103d9d4a667b40da9afd542c4e50aeb00c861b4eee5bb4e8f/ipython-7.15.0-py3-none-any.whl (783kB)\n",
            "\u001b[K     |████████████████████████████████| 788kB 44.2MB/s \n",
            "\u001b[?25hRequirement already satisfied: ipywidgets>=7.4.2 in /usr/local/lib/python3.6/dist-packages (from hits->cassiopeia-lineage==1.0.4) (7.5.1)\n",
            "Collecting lockfile>=0.10.2\n",
            "  Downloading https://files.pythonhosted.org/packages/c8/22/9460e311f340cb62d26a38c419b1381b8593b0bb6b5d1f056938b086d362/lockfile-0.12.2-py2.py3-none-any.whl\n",
            "Requirement already satisfied: CacheControl>=0.11.5 in /usr/local/lib/python3.6/dist-packages (from scikit-bio>=0.5.5->cassiopeia-lineage==1.0.4) (0.12.6)\n",
            "Requirement already satisfied: natsort>=4.0.3 in /usr/local/lib/python3.6/dist-packages (from scikit-bio>=0.5.5->cassiopeia-lineage==1.0.4) (5.5.0)\n",
            "Collecting hdmedians>=0.13\n",
            "  Downloading https://files.pythonhosted.org/packages/df/19/b8c304859fa12a71eeadd2e90a7f19000c3f1281be370f035a9fce3b014f/hdmedians-0.13.tar.gz\n",
            "Requirement already satisfied: scikit-learn>=0.19.1 in /usr/local/lib/python3.6/dist-packages (from scikit-bio>=0.5.5->cassiopeia-lineage==1.0.4) (0.22.2.post1)\n",
            "Requirement already satisfied: MarkupSafe>=0.23 in /usr/local/lib/python3.6/dist-packages (from Jinja2>=2.7->bokeh>=0.12.15->cassiopeia-lineage==1.0.4) (1.1.1)\n",
            "Requirement already satisfied: webencodings in /usr/local/lib/python3.6/dist-packages (from bleach->nbconvert>=5.4.0->cassiopeia-lineage==1.0.4) (0.5.1)\n",
            "Requirement already satisfied: backcall in /usr/local/lib/python3.6/dist-packages (from ipython>=7.8.0->hits->cassiopeia-lineage==1.0.4) (0.1.0)\n",
            "Requirement already satisfied: pickleshare in /usr/local/lib/python3.6/dist-packages (from ipython>=7.8.0->hits->cassiopeia-lineage==1.0.4) (0.7.5)\n",
            "Collecting prompt-toolkit!=3.0.0,!=3.0.1,<3.1.0,>=2.0.0\n",
            "\u001b[?25l  Downloading https://files.pythonhosted.org/packages/e4/a7/81b39aa50e9284fe2cb21cc7fb7de7817b224172d42793fd57451d38842b/prompt_toolkit-3.0.5-py3-none-any.whl (351kB)\n",
            "\u001b[K     |████████████████████████████████| 358kB 47.1MB/s \n",
            "\u001b[?25hRequirement already satisfied: pexpect; sys_platform != \"win32\" in /usr/local/lib/python3.6/dist-packages (from ipython>=7.8.0->hits->cassiopeia-lineage==1.0.4) (4.8.0)\n",
            "Requirement already satisfied: jedi>=0.10 in /usr/local/lib/python3.6/dist-packages (from ipython>=7.8.0->hits->cassiopeia-lineage==1.0.4) (0.17.0)\n",
            "Requirement already satisfied: ipykernel>=4.5.1 in /usr/local/lib/python3.6/dist-packages (from ipywidgets>=7.4.2->hits->cassiopeia-lineage==1.0.4) (4.10.1)\n",
            "Requirement already satisfied: widgetsnbextension~=3.5.0 in /usr/local/lib/python3.6/dist-packages (from ipywidgets>=7.4.2->hits->cassiopeia-lineage==1.0.4) (3.5.1)\n",
            "Requirement already satisfied: msgpack>=0.5.2 in /usr/local/lib/python3.6/dist-packages (from CacheControl>=0.11.5->scikit-bio>=0.5.5->cassiopeia-lineage==1.0.4) (1.0.0)\n",
            "Requirement already satisfied: requests in /usr/local/lib/python3.6/dist-packages (from CacheControl>=0.11.5->scikit-bio>=0.5.5->cassiopeia-lineage==1.0.4) (2.23.0)\n",
            "Requirement already satisfied: joblib>=0.11 in /usr/local/lib/python3.6/dist-packages (from scikit-learn>=0.19.1->scikit-bio>=0.5.5->cassiopeia-lineage==1.0.4) (0.15.1)\n",
            "Requirement already satisfied: wcwidth in /usr/local/lib/python3.6/dist-packages (from prompt-toolkit!=3.0.0,!=3.0.1,<3.1.0,>=2.0.0->ipython>=7.8.0->hits->cassiopeia-lineage==1.0.4) (0.2.2)\n",
            "Requirement already satisfied: ptyprocess>=0.5 in /usr/local/lib/python3.6/dist-packages (from pexpect; sys_platform != \"win32\"->ipython>=7.8.0->hits->cassiopeia-lineage==1.0.4) (0.6.0)\n",
            "Requirement already satisfied: parso>=0.7.0 in /usr/local/lib/python3.6/dist-packages (from jedi>=0.10->ipython>=7.8.0->hits->cassiopeia-lineage==1.0.4) (0.7.0)\n",
            "Requirement already satisfied: jupyter-client in /usr/local/lib/python3.6/dist-packages (from ipykernel>=4.5.1->ipywidgets>=7.4.2->hits->cassiopeia-lineage==1.0.4) (5.3.4)\n",
            "Requirement already satisfied: notebook>=4.4.1 in /usr/local/lib/python3.6/dist-packages (from widgetsnbextension~=3.5.0->ipywidgets>=7.4.2->hits->cassiopeia-lineage==1.0.4) (5.2.2)\n",
            "Requirement already satisfied: idna<3,>=2.5 in /usr/local/lib/python3.6/dist-packages (from requests->CacheControl>=0.11.5->scikit-bio>=0.5.5->cassiopeia-lineage==1.0.4) (2.9)\n",
            "Requirement already satisfied: certifi>=2017.4.17 in /usr/local/lib/python3.6/dist-packages (from requests->CacheControl>=0.11.5->scikit-bio>=0.5.5->cassiopeia-lineage==1.0.4) (2020.4.5.1)\n",
            "Requirement already satisfied: chardet<4,>=3.0.2 in /usr/local/lib/python3.6/dist-packages (from requests->CacheControl>=0.11.5->scikit-bio>=0.5.5->cassiopeia-lineage==1.0.4) (3.0.4)\n",
            "Requirement already satisfied: urllib3!=1.25.0,!=1.25.1,<1.26,>=1.21.1 in /usr/local/lib/python3.6/dist-packages (from requests->CacheControl>=0.11.5->scikit-bio>=0.5.5->cassiopeia-lineage==1.0.4) (1.24.3)\n",
            "Requirement already satisfied: pyzmq>=13 in /usr/local/lib/python3.6/dist-packages (from jupyter-client->ipykernel>=4.5.1->ipywidgets>=7.4.2->hits->cassiopeia-lineage==1.0.4) (19.0.1)\n",
            "Requirement already satisfied: terminado>=0.3.3; sys_platform != \"win32\" in /usr/local/lib/python3.6/dist-packages (from notebook>=4.4.1->widgetsnbextension~=3.5.0->ipywidgets>=7.4.2->hits->cassiopeia-lineage==1.0.4) (0.8.3)\n",
            "Building wheels for collected packages: cassiopeia-lineage, ete3, python-Levenshtein, hits, scikit-bio, hdmedians\n",
            "  Building wheel for cassiopeia-lineage (setup.py) ... \u001b[?25l\u001b[?25hdone\n",
            "  Created wheel for cassiopeia-lineage: filename=cassiopeia_lineage-1.0.4-cp36-cp36m-linux_x86_64.whl size=3012370 sha256=084f8dbb8755d2dbb9b267a0e746bf75424046a057f50d54e1da390d7a306edd\n",
            "  Stored in directory: /tmp/pip-ephem-wheel-cache-9mian_5g/wheels/0f/3a/8f/6db5a5437632fdc1cc21189f8ae402dfe9cd398e04223e5c7c\n",
            "  Building wheel for ete3 (setup.py) ... \u001b[?25l\u001b[?25hdone\n",
            "  Created wheel for ete3: filename=ete3-3.1.1-cp36-none-any.whl size=2226265 sha256=6ab2efd95ed790644e64eb1c7a0fc43cc3604e0a62e622c9b938a6ca97d06e16\n",
            "  Stored in directory: /root/.cache/pip/wheels/14/90/50/5c10d965e7fb68343d9c5349cce2787ff3e38397946468d640\n",
            "  Building wheel for python-Levenshtein (setup.py) ... \u001b[?25l\u001b[?25hdone\n",
            "  Created wheel for python-Levenshtein: filename=python_Levenshtein-0.12.0-cp36-cp36m-linux_x86_64.whl size=144801 sha256=ddc1781a030248ec5d430d51a5b5354b5d5212327662959453679f3ae14051c7\n",
            "  Stored in directory: /root/.cache/pip/wheels/de/c2/93/660fd5f7559049268ad2dc6d81c4e39e9e36518766eaf7e342\n",
            "  Building wheel for hits (setup.py) ... \u001b[?25l\u001b[?25hdone\n",
            "  Created wheel for hits: filename=hits-0.1-cp36-cp36m-linux_x86_64.whl size=1664024 sha256=b232ad328b3e63878755aad8437f8f95ec9e0931f183661d425c257e3245d000\n",
            "  Stored in directory: /root/.cache/pip/wheels/0e/f1/11/5af9de5641f2e4cd69f28403d8980fde1de94ffa0e5bd702d8\n",
            "  Building wheel for scikit-bio (setup.py) ... \u001b[?25l\u001b[?25hdone\n",
            "  Created wheel for scikit-bio: filename=scikit_bio-0.5.6-cp36-cp36m-linux_x86_64.whl size=1453818 sha256=9e7ea6f7b76dae703d85f9b01bff20b7c76b55b33e06d7bbea10e6fb7082c9c7\n",
            "  Stored in directory: /root/.cache/pip/wheels/1b/a9/f8/a46766b84d16bc409df4330f3a74dde61c5cf8400fed003a70\n",
            "  Building wheel for hdmedians (setup.py) ... \u001b[?25l\u001b[?25hdone\n",
            "  Created wheel for hdmedians: filename=hdmedians-0.13-cp36-cp36m-linux_x86_64.whl size=451611 sha256=6a43b5309af89ce80fac66a6f9db476f42a9657b36f37229dd60b599895ae803\n",
            "  Stored in directory: /root/.cache/pip/wheels/39/0c/15/d577807c98b49ef974f03214a5ea063baddad01c3077c29b69\n",
            "Successfully built cassiopeia-lineage ete3 python-Levenshtein hits scikit-bio hdmedians\n",
            "\u001b[31mERROR: jupyter-console 5.2.0 has requirement prompt-toolkit<2.0.0,>=1.0.0, but you'll have prompt-toolkit 3.0.5 which is incompatible.\u001b[0m\n",
            "\u001b[31mERROR: google-colab 1.0.0 has requirement ipython~=5.5.0, but you'll have ipython 7.15.0 which is incompatible.\u001b[0m\n",
            "Installing collected packages: ete3, argparse, Biopython, pandas-charm, pysam, python-Levenshtein, prompt-toolkit, ipython, hits, lockfile, hdmedians, scikit-bio, cassiopeia-lineage\n",
            "  Found existing installation: prompt-toolkit 1.0.18\n",
            "    Uninstalling prompt-toolkit-1.0.18:\n",
            "      Successfully uninstalled prompt-toolkit-1.0.18\n",
            "  Found existing installation: ipython 5.5.0\n",
            "    Uninstalling ipython-5.5.0:\n",
            "      Successfully uninstalled ipython-5.5.0\n",
            "Successfully installed Biopython-1.77 argparse-1.4.0 cassiopeia-lineage-1.0.4 ete3-3.1.1 hdmedians-0.13 hits-0.1 ipython-7.15.0 lockfile-0.12.2 pandas-charm-0.3.0 prompt-toolkit-3.0.5 pysam-0.15.4 python-Levenshtein-0.12.0 scikit-bio-0.5.6\n"
          ],
          "name": "stdout"
        },
        {
          "output_type": "display_data",
          "data": {
            "application/vnd.colab-display-data+json": {
              "pip_warning": {
                "packages": [
                  "IPython",
                  "argparse",
                  "prompt_toolkit"
                ]
              }
            }
          },
          "metadata": {
            "tags": []
          }
        }
      ]
    },
    {
      "cell_type": "code",
      "metadata": {
        "id": "wANQJTHkEN8F",
        "colab_type": "code",
        "outputId": "9dabf6eb-d6b1-4281-fd34-f91d3b53904a",
        "colab": {
          "base_uri": "https://localhost:8080/",
          "height": 204
        }
      },
      "source": [
        "!wget -O C2_test.tsv https://s3.msi.umn.edu/gongx030/rlib/C2_C3_training_data_performance/C2_test.tsv"
      ],
      "execution_count": 0,
      "outputs": [
        {
          "output_type": "stream",
          "text": [
            "--2020-06-06 00:24:55--  https://s3.msi.umn.edu/gongx030/rlib/C2_C3_training_data_performance/C2_test.tsv\n",
            "Resolving s3.msi.umn.edu (s3.msi.umn.edu)... 128.101.189.144\n",
            "Connecting to s3.msi.umn.edu (s3.msi.umn.edu)|128.101.189.144|:443... connected.\n",
            "HTTP request sent, awaiting response... 200 OK\n",
            "Length: 421892 (412K) [text/plain]\n",
            "Saving to: ‘C2_test.tsv’\n",
            "\n",
            "\rC2_test.tsv           0%[                    ]       0  --.-KB/s               \rC2_test.tsv          64%[===========>        ] 264.00K  1.29MB/s               \rC2_test.tsv         100%[===================>] 412.00K  1.86MB/s    in 0.2s    \n",
            "\n",
            "2020-06-06 00:24:56 (1.86 MB/s) - ‘C2_test.tsv’ saved [421892/421892]\n",
            "\n"
          ],
          "name": "stdout"
        }
      ]
    },
    {
      "cell_type": "code",
      "metadata": {
        "id": "4uQt_yPfgzkR",
        "colab_type": "code",
        "outputId": "cbd777be-248b-4bd9-e9e1-72c37491811c",
        "colab": {
          "base_uri": "https://localhost:8080/",
          "height": 51
        }
      },
      "source": [
        "import pandas as pd \n",
        "import numpy as np\n",
        "import networkx as nx\n",
        "import pickle as pic\n",
        "import time\n",
        "\n",
        "from cassiopeia.TreeSolver.lineage_solver.lineage_solver import solve_lineage_instance\n",
        "from cassiopeia.TreeSolver.Node import Node"
      ],
      "execution_count": 0,
      "outputs": [
        {
          "output_type": "stream",
          "text": [
            "/usr/local/lib/python3.6/dist-packages/cassiopeia/TreeSolver/lineage_solver/ILP_solver.py:11: UserWarning: No module called gurobipy found. ILP solver will exit automatically if used.\n",
            "  warnings.warn(\"No module called gurobipy found. ILP solver will exit automatically if used.\")\n"
          ],
          "name": "stderr"
        }
      ]
    },
    {
      "cell_type": "code",
      "metadata": {
        "id": "7BqPlSAMgzkW",
        "colab_type": "code",
        "colab": {}
      },
      "source": [
        "def run_cassiopeia_greedy(cm):\n",
        "    \n",
        "    cm_uniq = cm.drop_duplicates(inplace=False)\n",
        "    target_nodes = list(cm_uniq.apply(lambda x: Node(x.name, x.values), axis=1))\n",
        "    \n",
        "    reconstructed_network_greedy, potential_graph_sizes = solve_lineage_instance(\n",
        "            target_nodes,\n",
        "            method=\"greedy\",\n",
        "            n_neighbors=10, \n",
        "            missing_data_mode = 'avg'\n",
        "    )\n",
        "    \n",
        "    return reconstructed_network_greedy"
      ],
      "execution_count": 0,
      "outputs": []
    },
    {
      "cell_type": "code",
      "metadata": {
        "id": "VzJDlWiRgzkZ",
        "colab_type": "code",
        "outputId": "2ed549ae-95d6-4d28-efd8-007ba2d9bf8e",
        "colab": {
          "base_uri": "https://localhost:8080/",
          "height": 34
        }
      },
      "source": [
        "t0 = time.time()\n",
        "cm = pd.read_csv(\"C2_test.tsv\", sep='\\t', index_col = 0)\n",
        "\n",
        "tree = run_cassiopeia_greedy(cm)\n",
        "\n",
        "print('Time elasped: ' + str(np.round(time.time() - t0, 3)) + \" seconds\")"
      ],
      "execution_count": 0,
      "outputs": [
        {
          "output_type": "stream",
          "text": [
            "Time elasped: 166.872 seconds\n"
          ],
          "name": "stdout"
        }
      ]
    },
    {
      "cell_type": "code",
      "metadata": {
        "id": "BmcCGrBbuQVR",
        "colab_type": "code",
        "colab": {}
      },
      "source": [
        ""
      ],
      "execution_count": 0,
      "outputs": []
    }
  ]
}