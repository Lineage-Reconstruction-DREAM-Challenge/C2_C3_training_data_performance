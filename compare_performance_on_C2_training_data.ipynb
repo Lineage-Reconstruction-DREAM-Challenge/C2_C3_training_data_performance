{
  "nbformat": 4,
  "nbformat_minor": 0,
  "metadata": {
    "kernelspec": {
      "display_name": "R",
      "language": "R",
      "name": "ir"
    },
    "language_info": {
      "codemirror_mode": "r",
      "file_extension": ".r",
      "mimetype": "text/x-r-source",
      "name": "R",
      "pygments_lexer": "r",
      "version": "3.3.1"
    },
    "colab": {
      "name": "compare_performance_on_C2_training_data.ipynb",
      "provenance": [],
      "collapsed_sections": [],
      "toc_visible": true,
      "machine_shape": "hm",
      "include_colab_link": true
    }
  },
  "cells": [
    {
      "cell_type": "markdown",
      "metadata": {
        "id": "view-in-github",
        "colab_type": "text"
      },
      "source": [
        "<a href=\"https://colab.research.google.com/github/Lineage-Reconstruction-DREAM-Challenge/C2_C3_training_data_performance/blob/master/compare_performance_on_C2_training_data.ipynb\" target=\"_parent\"><img src=\"https://colab.research.google.com/assets/colab-badge.svg\" alt=\"Open In Colab\"/></a>"
      ]
    },
    {
      "cell_type": "markdown",
      "metadata": {
        "id": "4TLq2MbDD3zq"
      },
      "source": [
        "# Compare the performance of methods on the challenge 2 training data.\n",
        "\n",
        "by Wuming Gong\n"
      ]
    },
    {
      "cell_type": "code",
      "metadata": {
        "id": "6OhqEEeZHroa"
      },
      "source": [
        "start_time0 <- Sys.time()"
      ],
      "execution_count": 39,
      "outputs": []
    },
    {
      "cell_type": "code",
      "metadata": {
        "id": "rusZ2xJy-vH8"
      },
      "source": [
        "options(max.print=1000)"
      ],
      "execution_count": 40,
      "outputs": []
    },
    {
      "cell_type": "markdown",
      "metadata": {
        "id": "wFuTF2MUEiAk"
      },
      "source": [
        "## Install and load R packages"
      ]
    },
    {
      "cell_type": "code",
      "metadata": {
        "colab": {
          "base_uri": "https://localhost:8080/"
        },
        "id": "j8y0_UNN5mSC",
        "outputId": "c976b992-3e3f-4da5-fc5d-f5b3c3230d7e"
      },
      "source": [
        "install.packages('BiocManager')"
      ],
      "execution_count": 41,
      "outputs": [
        {
          "output_type": "stream",
          "text": [
            "Installing package into ‘/usr/local/lib/R/site-library’\n",
            "(as ‘lib’ is unspecified)\n",
            "\n"
          ],
          "name": "stderr"
        }
      ]
    },
    {
      "cell_type": "code",
      "metadata": {
        "id": "DWk3M3E350cf"
      },
      "source": [
        "required_packages <- c(\n",
        "  'BiocManager', \n",
        "  'dplyr', 'ggplot2'\n",
        ")"
      ],
      "execution_count": 42,
      "outputs": []
    },
    {
      "cell_type": "code",
      "metadata": {
        "id": "icve41ciuJim"
      },
      "source": [
        "missing_packages <- required_packages[!required_packages %in% rownames(installed.packages())]\n",
        "if (length(missing_packages) > 0){\n",
        "    BiocManager::install(missing_packages)\n",
        "}"
      ],
      "execution_count": 43,
      "outputs": []
    },
    {
      "cell_type": "markdown",
      "metadata": {
        "id": "-jny7UaP7yhP"
      },
      "source": [
        "## Load R packages"
      ]
    },
    {
      "cell_type": "code",
      "metadata": {
        "id": "wUu4q2lk4otS"
      },
      "source": [
        "library(dplyr)\n",
        "library(ggplot2)"
      ],
      "execution_count": 44,
      "outputs": []
    },
    {
      "cell_type": "markdown",
      "metadata": {
        "id": "Gop76Opx-GwX"
      },
      "source": [
        "# Load the performance of each methods on the challenge 2 training data"
      ]
    },
    {
      "cell_type": "markdown",
      "metadata": {
        "id": "niCksWtE-QLF"
      },
      "source": [
        "These results were reported by each team."
      ]
    },
    {
      "cell_type": "code",
      "metadata": {
        "id": "FprM-g1k5sT8"
      },
      "source": [
        "files <- c(\n",
        "  'Guan' = 'challenge=C2_group=GuanLab.tsv',\n",
        "  'Liu' = 'challenge=C2_group=Jingyuan_Hu.tsv',\n",
        "  'DCLEAR(KRD)' = 'challenge=C2_group=Kwak_Gong.v2.tsv',\n",
        "  'DCLEAR(WHD)' = 'challenge=C2_group=Kwak_gong_weighted_hamming_TreeCmp.tsv',\n",
        "  'Cassiopeia Greedy' = 'challenge=C2_group=MJ.tsv',\n",
        "  'AMbeRland' = 'challenge=C2_group=AMbeRland.tsv'\n",
        ")\n",
        "remote_files <- sprintf('https://raw.githubusercontent.com/Lineage-Reconstruction-DREAM-Challenge/C2_C3_training_data_performance/master/%s', files)\n",
        "names(remote_files) <- names(files)"
      ],
      "execution_count": 45,
      "outputs": []
    },
    {
      "cell_type": "code",
      "metadata": {
        "id": "42iPTEKh5cgT"
      },
      "source": [
        "d <- do.call('rbind', lapply(1:length(remote_files), function(i){\n",
        "  x <- read.table(remote_files[i], header = TRUE, sep = '\\t')\n",
        "  cbind(x, method = names(remote_files)[i])\n",
        "}))  %>%\n",
        "  mutate(method = factor(method, names(files)))"
      ],
      "execution_count": 46,
      "outputs": []
    },
    {
      "cell_type": "code",
      "metadata": {
        "colab": {
          "base_uri": "https://localhost:8080/",
          "height": 204
        },
        "id": "wLm0nfTV78gu",
        "outputId": "986c74cd-6e2a-4791-b796-01d71af7289c"
      },
      "source": [
        "head(d)"
      ],
      "execution_count": 47,
      "outputs": [
        {
          "output_type": "display_data",
          "data": {
            "text/plain": [
              "  sample rf     triplet method\n",
              "1 1      0.7158 0.7417  Guan  \n",
              "2 2      0.7363 0.5543  Guan  \n",
              "3 3      0.6034 0.5931  Guan  \n",
              "4 4      0.6443 0.7805  Guan  \n",
              "5 5      0.6545 0.8522  Guan  \n",
              "6 6      0.7158 0.7299  Guan  "
            ],
            "text/latex": "A data.frame: 6 × 4\n\\begin{tabular}{r|llll}\n  & sample & rf & triplet & method\\\\\n  & <int> & <dbl> & <dbl> & <fct>\\\\\n\\hline\n\t1 & 1 & 0.7158 & 0.7417 & Guan\\\\\n\t2 & 2 & 0.7363 & 0.5543 & Guan\\\\\n\t3 & 3 & 0.6034 & 0.5931 & Guan\\\\\n\t4 & 4 & 0.6443 & 0.7805 & Guan\\\\\n\t5 & 5 & 0.6545 & 0.8522 & Guan\\\\\n\t6 & 6 & 0.7158 & 0.7299 & Guan\\\\\n\\end{tabular}\n",
            "text/markdown": "\nA data.frame: 6 × 4\n\n| <!--/--> | sample &lt;int&gt; | rf &lt;dbl&gt; | triplet &lt;dbl&gt; | method &lt;fct&gt; |\n|---|---|---|---|---|\n| 1 | 1 | 0.7158 | 0.7417 | Guan |\n| 2 | 2 | 0.7363 | 0.5543 | Guan |\n| 3 | 3 | 0.6034 | 0.5931 | Guan |\n| 4 | 4 | 0.6443 | 0.7805 | Guan |\n| 5 | 5 | 0.6545 | 0.8522 | Guan |\n| 6 | 6 | 0.7158 | 0.7299 | Guan |\n\n",
            "text/html": [
              "<table>\n",
              "<caption>A data.frame: 6 × 4</caption>\n",
              "<thead>\n",
              "\t<tr><th></th><th scope=col>sample</th><th scope=col>rf</th><th scope=col>triplet</th><th scope=col>method</th></tr>\n",
              "\t<tr><th></th><th scope=col>&lt;int&gt;</th><th scope=col>&lt;dbl&gt;</th><th scope=col>&lt;dbl&gt;</th><th scope=col>&lt;fct&gt;</th></tr>\n",
              "</thead>\n",
              "<tbody>\n",
              "\t<tr><th scope=row>1</th><td>1</td><td>0.7158</td><td>0.7417</td><td>Guan</td></tr>\n",
              "\t<tr><th scope=row>2</th><td>2</td><td>0.7363</td><td>0.5543</td><td>Guan</td></tr>\n",
              "\t<tr><th scope=row>3</th><td>3</td><td>0.6034</td><td>0.5931</td><td>Guan</td></tr>\n",
              "\t<tr><th scope=row>4</th><td>4</td><td>0.6443</td><td>0.7805</td><td>Guan</td></tr>\n",
              "\t<tr><th scope=row>5</th><td>5</td><td>0.6545</td><td>0.8522</td><td>Guan</td></tr>\n",
              "\t<tr><th scope=row>6</th><td>6</td><td>0.7158</td><td>0.7299</td><td>Guan</td></tr>\n",
              "</tbody>\n",
              "</table>\n"
            ]
          },
          "metadata": {
            "tags": []
          }
        }
      ]
    },
    {
      "cell_type": "markdown",
      "metadata": {
        "id": "lM6sKAOX-SU6"
      },
      "source": [
        "## Visualize the performance"
      ]
    },
    {
      "cell_type": "code",
      "metadata": {
        "id": "-_8xrWHvdUyQ",
        "colab": {
          "base_uri": "https://localhost:8080/",
          "height": 257
        },
        "outputId": "86560254-882c-4de0-b788-ed9e3477ad93"
      },
      "source": [
        "options(repr.plot.width = 7, repr.plot.height = 4)\n",
        "d %>%\n",
        "  ggplot(aes(x = method, y = rf)) + \n",
        "  geom_boxplot() +\n",
        "  coord_flip() + \n",
        "  theme_bw() +\n",
        "  xlab('') + ylab('Robinson-Foulds distance') +\n",
        "  theme(axis.text = element_text(size = 20, face = 'bold', color=\"black\")) +  \n",
        "  theme(axis.title = element_text(size = 20, face = 'bold', color = 'black'))"
      ],
      "execution_count": 48,
      "outputs": [
        {
          "output_type": "display_data",
          "data": {
            "image/png": "[encoded data removed]",
            "text/plain": [
              "plot without title"
            ]
          },
          "metadata": {
            "tags": [],
            "image/png": {
              "width": 420,
              "height": 240
            }
          }
        }
      ]
    },
    {
      "cell_type": "code",
      "metadata": {
        "colab": {
          "base_uri": "https://localhost:8080/",
          "height": 257
        },
        "id": "DcICcoSF9iTh",
        "outputId": "97d47918-ea47-46f8-cdd4-680d11ff582e"
      },
      "source": [
        "options(repr.plot.width = 7, repr.plot.height = 4)\n",
        "d %>%\n",
        "  ggplot(aes(x = method, y = triplet)) + \n",
        "  geom_boxplot() +\n",
        "  coord_flip() + \n",
        "  theme_bw() +\n",
        "  xlab('') + ylab('Triplet distance') +\n",
        "  theme(axis.text = element_text(size = 20, face = 'bold', color=\"black\")) +  \n",
        "  theme(axis.title = element_text(size = 20, face = 'bold', color = 'black'))"
      ],
      "execution_count": 49,
      "outputs": [
        {
          "output_type": "display_data",
          "data": {
            "image/png": "[encoded data removed]",
            "text/plain": [
              "plot without title"
            ]
          },
          "metadata": {
            "tags": [],
            "image/png": {
              "width": 420,
              "height": 240
            }
          }
        }
      ]
    },
    {
      "cell_type": "markdown",
      "metadata": {
        "id": "UL__NQw0c6sN"
      },
      "source": [
        "## SessionInfo"
      ]
    },
    {
      "cell_type": "code",
      "metadata": {
        "id": "OdlweMfWoepB",
        "colab": {
          "base_uri": "https://localhost:8080/",
          "height": 561
        },
        "outputId": "f5c416e4-caf0-46d6-9f83-66a224318bae"
      },
      "source": [
        "sessionInfo()"
      ],
      "execution_count": 50,
      "outputs": [
        {
          "output_type": "display_data",
          "data": {
            "text/plain": [
              "R version 4.0.3 (2020-10-10)\n",
              "Platform: x86_64-pc-linux-gnu (64-bit)\n",
              "Running under: Ubuntu 18.04.5 LTS\n",
              "\n",
              "Matrix products: default\n",
              "BLAS:   /usr/lib/x86_64-linux-gnu/openblas/libblas.so.3\n",
              "LAPACK: /usr/lib/x86_64-linux-gnu/libopenblasp-r0.2.20.so\n",
              "\n",
              "locale:\n",
              " [1] LC_CTYPE=en_US.UTF-8       LC_NUMERIC=C              \n",
              " [3] LC_TIME=en_US.UTF-8        LC_COLLATE=en_US.UTF-8    \n",
              " [5] LC_MONETARY=en_US.UTF-8    LC_MESSAGES=en_US.UTF-8   \n",
              " [7] LC_PAPER=en_US.UTF-8       LC_NAME=C                 \n",
              " [9] LC_ADDRESS=C               LC_TELEPHONE=C            \n",
              "[11] LC_MEASUREMENT=en_US.UTF-8 LC_IDENTIFICATION=C       \n",
              "\n",
              "attached base packages:\n",
              "[1] stats     graphics  grDevices utils     datasets  methods   base     \n",
              "\n",
              "other attached packages:\n",
              "[1] ggplot2_3.3.2 dplyr_1.0.2  \n",
              "\n",
              "loaded via a namespace (and not attached):\n",
              " [1] magrittr_2.0.1   munsell_0.5.0    tidyselect_1.1.0 uuid_0.1-4      \n",
              " [5] colorspace_2.0-0 R6_2.5.0         rlang_0.4.9      tools_4.0.3     \n",
              " [9] grid_4.0.3       gtable_0.3.0     withr_2.3.0      htmltools_0.5.0 \n",
              "[13] ellipsis_0.3.1   digest_0.6.27    tibble_3.0.4     lifecycle_0.2.0 \n",
              "[17] crayon_1.3.4     IRdisplay_0.7.0  farver_2.0.3     purrr_0.3.4     \n",
              "[21] repr_1.1.0       base64enc_0.1-3  vctrs_0.3.5      IRkernel_1.1.1  \n",
              "[25] glue_1.4.2       evaluate_0.14    labeling_0.4.2   pbdZMQ_0.3-3.1  \n",
              "[29] compiler_4.0.3   pillar_1.4.7     scales_1.1.1     generics_0.1.0  \n",
              "[33] jsonlite_1.7.1   pkgconfig_2.0.3 "
            ]
          },
          "metadata": {
            "tags": []
          }
        }
      ]
    },
    {
      "cell_type": "code",
      "metadata": {
        "id": "ZQLJkldkqNnC",
        "colab": {
          "base_uri": "https://localhost:8080/",
          "height": 34
        },
        "outputId": "4153456f-d836-4fcf-9cdd-f94f18a8449d"
      },
      "source": [
        "Sys.time() - start_time0"
      ],
      "execution_count": 51,
      "outputs": [
        {
          "output_type": "display_data",
          "data": {
            "text/plain": [
              "Time difference of 4.752624 secs"
            ]
          },
          "metadata": {
            "tags": []
          }
        }
      ]
    }
  ]
}