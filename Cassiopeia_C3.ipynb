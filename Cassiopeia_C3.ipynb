{
  "nbformat": 4,
  "nbformat_minor": 0,
  "metadata": {
    "kernelspec": {
      "display_name": "Python 3",
      "language": "python",
      "name": "python3"
    },
    "language_info": {
      "codemirror_mode": {
        "name": "ipython",
        "version": 3
      },
      "file_extension": ".py",
      "mimetype": "text/x-python",
      "name": "python",
      "nbconvert_exporter": "python",
      "pygments_lexer": "ipython3",
      "version": "3.6.8"
    },
    "colab": {
      "name": "Cassiopeia_C3.ipynb",
      "provenance": [],
      "collapsed_sections": [],
      "include_colab_link": true
    }
  },
  "cells": [
    {
      "cell_type": "markdown",
      "metadata": {
        "id": "view-in-github",
        "colab_type": "text"
      },
      "source": [
        "<a href=\"https://colab.research.google.com/github/Lineage-Reconstruction-DREAM-Challenge/C2_C3_training_data_performance/blob/master/Cassiopeia_C3.ipynb\" target=\"_parent\"><img src=\"https://colab.research.google.com/assets/colab-badge.svg\" alt=\"Open In Colab\"/></a>"
      ]
    },
    {
      "cell_type": "markdown",
      "metadata": {
        "id": "N8p6K19i702E",
        "colab_type": "text"
      },
      "source": [
        "###Evaluating the running time of Cassiopeia-Greedy on a dataset of 2,500 cells with 1,000 targets"
      ]
    },
    {
      "cell_type": "code",
      "metadata": {
        "id": "Szeu464nh_bw",
        "colab_type": "code",
        "outputId": "9f4339f6-cd14-4e5b-9fb7-bb509df4deaf",
        "colab": {
          "base_uri": "https://localhost:8080/",
          "height": 1000
        }
      },
      "source": [
        "!pip install git+https://github.com/YosefLab/Cassiopeia.git"
      ],
      "execution_count": 10,
      "outputs": [
        {
          "output_type": "stream",
          "text": [
            "Collecting git+https://github.com/YosefLab/Cassiopeia.git\n",
            "  Cloning https://github.com/YosefLab/Cassiopeia.git to /tmp/pip-req-build-ykpnne4d\n",
            "  Running command git clone -q https://github.com/YosefLab/Cassiopeia.git /tmp/pip-req-build-ykpnne4d\n",
            "Requirement already satisfied (use --upgrade to upgrade): cassiopeia-lineage==1.0.4 from git+https://github.com/YosefLab/Cassiopeia.git in /usr/local/lib/python3.6/dist-packages\n",
            "Requirement already satisfied: numpy>1.17 in /usr/local/lib/python3.6/dist-packages (from cassiopeia-lineage==1.0.4) (1.18.5)\n",
            "Requirement already satisfied: matplotlib>=2.2.2 in /usr/local/lib/python3.6/dist-packages (from cassiopeia-lineage==1.0.4) (3.2.1)\n",
            "Requirement already satisfied: pandas>=0.22.0 in /usr/local/lib/python3.6/dist-packages (from cassiopeia-lineage==1.0.4) (1.0.4)\n",
            "Requirement already satisfied: networkx>=2.0 in /usr/local/lib/python3.6/dist-packages (from cassiopeia-lineage==1.0.4) (2.4)\n",
            "Requirement already satisfied: tqdm>=4 in /usr/local/lib/python3.6/dist-packages (from cassiopeia-lineage==1.0.4) (4.41.1)\n",
            "Requirement already satisfied: ete3>=3.1.1 in /usr/local/lib/python3.6/dist-packages (from cassiopeia-lineage==1.0.4) (3.1.1)\n",
            "Requirement already satisfied: argparse>=1.1 in /usr/local/lib/python3.6/dist-packages (from cassiopeia-lineage==1.0.4) (1.4.0)\n",
            "Requirement already satisfied: Biopython>=1.71 in /usr/local/lib/python3.6/dist-packages (from cassiopeia-lineage==1.0.4) (1.77)\n",
            "Requirement already satisfied: pathlib in /usr/local/lib/python3.6/dist-packages (from cassiopeia-lineage==1.0.4) (1.0.1)\n",
            "Requirement already satisfied: pandas-charm>=0.1.3 in /usr/local/lib/python3.6/dist-packages (from cassiopeia-lineage==1.0.4) (0.3.0)\n",
            "Requirement already satisfied: pysam>=0.14.1 in /usr/local/lib/python3.6/dist-packages (from cassiopeia-lineage==1.0.4) (0.16.0)\n",
            "Requirement already satisfied: bokeh>=0.12.15 in /usr/local/lib/python3.6/dist-packages (from cassiopeia-lineage==1.0.4) (1.4.0)\n",
            "Requirement already satisfied: PyYAML>=3.12 in /usr/local/lib/python3.6/dist-packages (from cassiopeia-lineage==1.0.4) (3.13)\n",
            "Requirement already satisfied: cython>=0.29.2 in /usr/local/lib/python3.6/dist-packages (from cassiopeia-lineage==1.0.4) (0.29.19)\n",
            "Requirement already satisfied: scipy>=1.2.0 in /usr/local/lib/python3.6/dist-packages (from cassiopeia-lineage==1.0.4) (1.4.1)\n",
            "Requirement already satisfied: python-Levenshtein in /usr/local/lib/python3.6/dist-packages (from cassiopeia-lineage==1.0.4) (0.12.0)\n",
            "Requirement already satisfied: nbconvert>=5.4.0 in /usr/local/lib/python3.6/dist-packages (from cassiopeia-lineage==1.0.4) (5.6.1)\n",
            "Requirement already satisfied: nbformat>=4.4.0 in /usr/local/lib/python3.6/dist-packages (from cassiopeia-lineage==1.0.4) (5.0.6)\n",
            "Requirement already satisfied: hits in /usr/local/lib/python3.6/dist-packages (from cassiopeia-lineage==1.0.4) (0.1)\n",
            "Requirement already satisfied: scikit-bio>=0.5.5 in /usr/local/lib/python3.6/dist-packages (from cassiopeia-lineage==1.0.4) (0.5.6)\n",
            "Requirement already satisfied: cycler>=0.10 in /usr/local/lib/python3.6/dist-packages (from matplotlib>=2.2.2->cassiopeia-lineage==1.0.4) (0.10.0)\n",
            "Requirement already satisfied: kiwisolver>=1.0.1 in /usr/local/lib/python3.6/dist-packages (from matplotlib>=2.2.2->cassiopeia-lineage==1.0.4) (1.2.0)\n",
            "Requirement already satisfied: pyparsing!=2.0.4,!=2.1.2,!=2.1.6,>=2.0.1 in /usr/local/lib/python3.6/dist-packages (from matplotlib>=2.2.2->cassiopeia-lineage==1.0.4) (2.4.7)\n",
            "Requirement already satisfied: python-dateutil>=2.1 in /usr/local/lib/python3.6/dist-packages (from matplotlib>=2.2.2->cassiopeia-lineage==1.0.4) (2.8.1)\n",
            "Requirement already satisfied: pytz>=2017.2 in /usr/local/lib/python3.6/dist-packages (from pandas>=0.22.0->cassiopeia-lineage==1.0.4) (2018.9)\n",
            "Requirement already satisfied: decorator>=4.3.0 in /usr/local/lib/python3.6/dist-packages (from networkx>=2.0->cassiopeia-lineage==1.0.4) (4.4.2)\n",
            "Requirement already satisfied: six>=1.5.2 in /usr/local/lib/python3.6/dist-packages (from bokeh>=0.12.15->cassiopeia-lineage==1.0.4) (1.12.0)\n",
            "Requirement already satisfied: tornado>=4.3 in /usr/local/lib/python3.6/dist-packages (from bokeh>=0.12.15->cassiopeia-lineage==1.0.4) (4.5.3)\n",
            "Requirement already satisfied: Jinja2>=2.7 in /usr/local/lib/python3.6/dist-packages (from bokeh>=0.12.15->cassiopeia-lineage==1.0.4) (2.11.2)\n",
            "Requirement already satisfied: packaging>=16.8 in /usr/local/lib/python3.6/dist-packages (from bokeh>=0.12.15->cassiopeia-lineage==1.0.4) (20.4)\n",
            "Requirement already satisfied: pillow>=4.0 in /usr/local/lib/python3.6/dist-packages (from bokeh>=0.12.15->cassiopeia-lineage==1.0.4) (7.0.0)\n",
            "Requirement already satisfied: setuptools in /usr/local/lib/python3.6/dist-packages (from python-Levenshtein->cassiopeia-lineage==1.0.4) (47.1.1)\n",
            "Requirement already satisfied: mistune<2,>=0.8.1 in /usr/local/lib/python3.6/dist-packages (from nbconvert>=5.4.0->cassiopeia-lineage==1.0.4) (0.8.4)\n",
            "Requirement already satisfied: bleach in /usr/local/lib/python3.6/dist-packages (from nbconvert>=5.4.0->cassiopeia-lineage==1.0.4) (3.1.5)\n",
            "Requirement already satisfied: testpath in /usr/local/lib/python3.6/dist-packages (from nbconvert>=5.4.0->cassiopeia-lineage==1.0.4) (0.4.4)\n",
            "Requirement already satisfied: traitlets>=4.2 in /usr/local/lib/python3.6/dist-packages (from nbconvert>=5.4.0->cassiopeia-lineage==1.0.4) (4.3.3)\n",
            "Requirement already satisfied: entrypoints>=0.2.2 in /usr/local/lib/python3.6/dist-packages (from nbconvert>=5.4.0->cassiopeia-lineage==1.0.4) (0.3)\n",
            "Requirement already satisfied: jupyter-core in /usr/local/lib/python3.6/dist-packages (from nbconvert>=5.4.0->cassiopeia-lineage==1.0.4) (4.6.3)\n",
            "Requirement already satisfied: pandocfilters>=1.4.1 in /usr/local/lib/python3.6/dist-packages (from nbconvert>=5.4.0->cassiopeia-lineage==1.0.4) (1.4.2)\n",
            "Requirement already satisfied: pygments in /usr/local/lib/python3.6/dist-packages (from nbconvert>=5.4.0->cassiopeia-lineage==1.0.4) (2.1.3)\n",
            "Requirement already satisfied: defusedxml in /usr/local/lib/python3.6/dist-packages (from nbconvert>=5.4.0->cassiopeia-lineage==1.0.4) (0.6.0)\n",
            "Requirement already satisfied: ipython-genutils in /usr/local/lib/python3.6/dist-packages (from nbformat>=4.4.0->cassiopeia-lineage==1.0.4) (0.2.0)\n",
            "Requirement already satisfied: jsonschema!=2.5.0,>=2.4 in /usr/local/lib/python3.6/dist-packages (from nbformat>=4.4.0->cassiopeia-lineage==1.0.4) (2.6.0)\n",
            "Requirement already satisfied: ipython>=7.8.0 in /usr/local/lib/python3.6/dist-packages (from hits->cassiopeia-lineage==1.0.4) (7.15.0)\n",
            "Requirement already satisfied: ipywidgets>=7.4.2 in /usr/local/lib/python3.6/dist-packages (from hits->cassiopeia-lineage==1.0.4) (7.5.1)\n",
            "Requirement already satisfied: hdmedians>=0.13 in /usr/local/lib/python3.6/dist-packages (from scikit-bio>=0.5.5->cassiopeia-lineage==1.0.4) (0.13)\n",
            "Requirement already satisfied: scikit-learn>=0.19.1 in /usr/local/lib/python3.6/dist-packages (from scikit-bio>=0.5.5->cassiopeia-lineage==1.0.4) (0.22.2.post1)\n",
            "Requirement already satisfied: natsort>=4.0.3 in /usr/local/lib/python3.6/dist-packages (from scikit-bio>=0.5.5->cassiopeia-lineage==1.0.4) (5.5.0)\n",
            "Requirement already satisfied: lockfile>=0.10.2 in /usr/local/lib/python3.6/dist-packages (from scikit-bio>=0.5.5->cassiopeia-lineage==1.0.4) (0.12.2)\n",
            "Requirement already satisfied: CacheControl>=0.11.5 in /usr/local/lib/python3.6/dist-packages (from scikit-bio>=0.5.5->cassiopeia-lineage==1.0.4) (0.12.6)\n",
            "Requirement already satisfied: MarkupSafe>=0.23 in /usr/local/lib/python3.6/dist-packages (from Jinja2>=2.7->bokeh>=0.12.15->cassiopeia-lineage==1.0.4) (1.1.1)\n",
            "Requirement already satisfied: webencodings in /usr/local/lib/python3.6/dist-packages (from bleach->nbconvert>=5.4.0->cassiopeia-lineage==1.0.4) (0.5.1)\n",
            "Requirement already satisfied: pexpect; sys_platform != \"win32\" in /usr/local/lib/python3.6/dist-packages (from ipython>=7.8.0->hits->cassiopeia-lineage==1.0.4) (4.8.0)\n",
            "Requirement already satisfied: jedi>=0.10 in /usr/local/lib/python3.6/dist-packages (from ipython>=7.8.0->hits->cassiopeia-lineage==1.0.4) (0.17.0)\n",
            "Requirement already satisfied: pickleshare in /usr/local/lib/python3.6/dist-packages (from ipython>=7.8.0->hits->cassiopeia-lineage==1.0.4) (0.7.5)\n",
            "Requirement already satisfied: prompt-toolkit!=3.0.0,!=3.0.1,<3.1.0,>=2.0.0 in /usr/local/lib/python3.6/dist-packages (from ipython>=7.8.0->hits->cassiopeia-lineage==1.0.4) (3.0.5)\n",
            "Requirement already satisfied: backcall in /usr/local/lib/python3.6/dist-packages (from ipython>=7.8.0->hits->cassiopeia-lineage==1.0.4) (0.1.0)\n",
            "Requirement already satisfied: ipykernel>=4.5.1 in /usr/local/lib/python3.6/dist-packages (from ipywidgets>=7.4.2->hits->cassiopeia-lineage==1.0.4) (4.10.1)\n",
            "Requirement already satisfied: widgetsnbextension~=3.5.0 in /usr/local/lib/python3.6/dist-packages (from ipywidgets>=7.4.2->hits->cassiopeia-lineage==1.0.4) (3.5.1)\n",
            "Requirement already satisfied: joblib>=0.11 in /usr/local/lib/python3.6/dist-packages (from scikit-learn>=0.19.1->scikit-bio>=0.5.5->cassiopeia-lineage==1.0.4) (0.15.1)\n",
            "Requirement already satisfied: requests in /usr/local/lib/python3.6/dist-packages (from CacheControl>=0.11.5->scikit-bio>=0.5.5->cassiopeia-lineage==1.0.4) (2.23.0)\n",
            "Requirement already satisfied: msgpack>=0.5.2 in /usr/local/lib/python3.6/dist-packages (from CacheControl>=0.11.5->scikit-bio>=0.5.5->cassiopeia-lineage==1.0.4) (1.0.0)\n",
            "Requirement already satisfied: ptyprocess>=0.5 in /usr/local/lib/python3.6/dist-packages (from pexpect; sys_platform != \"win32\"->ipython>=7.8.0->hits->cassiopeia-lineage==1.0.4) (0.6.0)\n",
            "Requirement already satisfied: parso>=0.7.0 in /usr/local/lib/python3.6/dist-packages (from jedi>=0.10->ipython>=7.8.0->hits->cassiopeia-lineage==1.0.4) (0.7.0)\n",
            "Requirement already satisfied: wcwidth in /usr/local/lib/python3.6/dist-packages (from prompt-toolkit!=3.0.0,!=3.0.1,<3.1.0,>=2.0.0->ipython>=7.8.0->hits->cassiopeia-lineage==1.0.4) (0.2.3)\n",
            "Requirement already satisfied: jupyter-client in /usr/local/lib/python3.6/dist-packages (from ipykernel>=4.5.1->ipywidgets>=7.4.2->hits->cassiopeia-lineage==1.0.4) (5.3.4)\n",
            "Requirement already satisfied: notebook>=4.4.1 in /usr/local/lib/python3.6/dist-packages (from widgetsnbextension~=3.5.0->ipywidgets>=7.4.2->hits->cassiopeia-lineage==1.0.4) (5.2.2)\n",
            "Requirement already satisfied: chardet<4,>=3.0.2 in /usr/local/lib/python3.6/dist-packages (from requests->CacheControl>=0.11.5->scikit-bio>=0.5.5->cassiopeia-lineage==1.0.4) (3.0.4)\n",
            "Requirement already satisfied: certifi>=2017.4.17 in /usr/local/lib/python3.6/dist-packages (from requests->CacheControl>=0.11.5->scikit-bio>=0.5.5->cassiopeia-lineage==1.0.4) (2020.4.5.1)\n",
            "Requirement already satisfied: idna<3,>=2.5 in /usr/local/lib/python3.6/dist-packages (from requests->CacheControl>=0.11.5->scikit-bio>=0.5.5->cassiopeia-lineage==1.0.4) (2.9)\n",
            "Requirement already satisfied: urllib3!=1.25.0,!=1.25.1,<1.26,>=1.21.1 in /usr/local/lib/python3.6/dist-packages (from requests->CacheControl>=0.11.5->scikit-bio>=0.5.5->cassiopeia-lineage==1.0.4) (1.24.3)\n",
            "Requirement already satisfied: pyzmq>=13 in /usr/local/lib/python3.6/dist-packages (from jupyter-client->ipykernel>=4.5.1->ipywidgets>=7.4.2->hits->cassiopeia-lineage==1.0.4) (19.0.1)\n",
            "Requirement already satisfied: terminado>=0.3.3; sys_platform != \"win32\" in /usr/local/lib/python3.6/dist-packages (from notebook>=4.4.1->widgetsnbextension~=3.5.0->ipywidgets>=7.4.2->hits->cassiopeia-lineage==1.0.4) (0.8.3)\n",
            "Building wheels for collected packages: cassiopeia-lineage\n",
            "  Building wheel for cassiopeia-lineage (setup.py) ... \u001b[?25l\u001b[?25hdone\n",
            "  Created wheel for cassiopeia-lineage: filename=cassiopeia_lineage-1.0.4-cp36-cp36m-linux_x86_64.whl size=3004451 sha256=75fdcb2957106bd1bdb3182cec85be85aaf3973e93847ca776fbc0a64daf9bc4\n",
            "  Stored in directory: /tmp/pip-ephem-wheel-cache-8og7f4w1/wheels/0f/3a/8f/6db5a5437632fdc1cc21189f8ae402dfe9cd398e04223e5c7c\n",
            "Successfully built cassiopeia-lineage\n"
          ],
          "name": "stdout"
        }
      ]
    },
    {
      "cell_type": "code",
      "metadata": {
        "id": "wANQJTHkEN8F",
        "colab_type": "code",
        "outputId": "f0dce6ef-74f0-4bef-bd94-449ecfccbd61",
        "colab": {
          "base_uri": "https://localhost:8080/",
          "height": 204
        }
      },
      "source": [
        "!wget -O C3_test.tsv https://s3.msi.umn.edu/gongx030/rlib/C2_C3_training_data_performance/C3_test.tsv"
      ],
      "execution_count": 11,
      "outputs": [
        {
          "output_type": "stream",
          "text": [
            "--2020-06-09 21:36:33--  https://s3.msi.umn.edu/gongx030/rlib/C2_C3_training_data_performance/C3_test.tsv\n",
            "Resolving s3.msi.umn.edu (s3.msi.umn.edu)... 128.101.189.144\n",
            "Connecting to s3.msi.umn.edu (s3.msi.umn.edu)|128.101.189.144|:443... connected.\n",
            "HTTP request sent, awaiting response... 200 OK\n",
            "Length: 20214893 (19M) [text/plain]\n",
            "Saving to: ‘C3_test.tsv’\n",
            "\n",
            "C3_test.tsv         100%[===================>]  19.28M  71.5MB/s    in 0.3s    \n",
            "\n",
            "2020-06-09 21:36:33 (71.5 MB/s) - ‘C3_test.tsv’ saved [20214893/20214893]\n",
            "\n"
          ],
          "name": "stdout"
        }
      ]
    },
    {
      "cell_type": "code",
      "metadata": {
        "id": "4uQt_yPfgzkR",
        "colab_type": "code",
        "colab": {}
      },
      "source": [
        "import pandas as pd \n",
        "import numpy as np\n",
        "import networkx as nx\n",
        "import pickle as pic\n",
        "import time\n",
        "\n",
        "from cassiopeia.TreeSolver.lineage_solver.lineage_solver import solve_lineage_instance\n",
        "from cassiopeia.TreeSolver.Node import Node"
      ],
      "execution_count": 0,
      "outputs": []
    },
    {
      "cell_type": "code",
      "metadata": {
        "id": "7BqPlSAMgzkW",
        "colab_type": "code",
        "colab": {}
      },
      "source": [
        "def run_cassiopeia_greedy(cm):\n",
        "    \n",
        "    cm_uniq = cm.drop_duplicates(inplace=False)\n",
        "    target_nodes = list(cm_uniq.apply(lambda x: Node(x.name, x.values), axis=1))\n",
        "    \n",
        "    reconstructed_network_greedy, potential_graph_sizes = solve_lineage_instance(\n",
        "             target_nodes,\n",
        "             method=\"greedy\",\n",
        "             missing_data_mode='lookahead',\n",
        "         )\n",
        "    \n",
        "    return reconstructed_network_greedy"
      ],
      "execution_count": 0,
      "outputs": []
    },
    {
      "cell_type": "code",
      "metadata": {
        "id": "VzJDlWiRgzkZ",
        "colab_type": "code",
        "colab": {
          "base_uri": "https://localhost:8080/",
          "height": 34
        },
        "outputId": "6e9586e3-a4d6-4c34-f8e3-a90d255b890a"
      },
      "source": [
        "t0 = time.time()\n",
        "cm = pd.read_csv(\"C3_test.tsv\", sep='\\t', index_col = 0)\n",
        "cm = cm[0:2500]\n",
        "cm.index = ['n' + str(i) for i in range(cm.shape[0])]\n",
        "\n",
        "tree = run_cassiopeia_greedy(cm)\n",
        "\n",
        "print('Time elasped: ' + str(np.round(time.time() - t0, 3)) + \" seconds\")"
      ],
      "execution_count": 14,
      "outputs": [
        {
          "output_type": "stream",
          "text": [
            "Time elasped: 1251.797 seconds\n"
          ],
          "name": "stdout"
        }
      ]
    },
    {
      "cell_type": "code",
      "metadata": {
        "id": "D2eMUQlFAHep",
        "colab_type": "code",
        "colab": {}
      },
      "source": [
        ""
      ],
      "execution_count": 0,
      "outputs": []
    }
  ]
}